{
 "cells": [
  {
   "cell_type": "code",
   "execution_count": 1,
   "metadata": {
    "collapsed": true
   },
   "outputs": [],
   "source": [
    "import emptyheaded\n"
   ]
  },
  {
   "cell_type": "code",
   "execution_count": 2,
   "metadata": {
    "collapsed": false
   },
   "outputs": [
    {
     "name": "stdout",
     "output_type": "stream",
     "text": [
      "Created database with the following relations: \n",
      "\tR(node:long,node:long,)\n",
      "{u'algorithm': u'NPRR+',\n",
      " u'database': u'/Users/caberger/Documents/Research/code/databases/higgs/db_pruned',\n",
      " u'layout': u'hybrid',\n",
      " u'numNUMA': 4,\n",
      " u'numThreads': 48}\n"
     ]
    }
   ],
   "source": [
    "emptyheaded.createDB(\"/Users/caberger/Documents/Research/code/databases/higgs/config_pruned.json\")"
   ]
  },
  {
   "cell_type": "code",
   "execution_count": null,
   "metadata": {
    "collapsed": true
   },
   "outputs": [],
   "source": []
  }
 ],
 "metadata": {
  "kernelspec": {
   "display_name": "Python 2",
   "language": "python",
   "name": "python2"
  },
  "language_info": {
   "codemirror_mode": {
    "name": "ipython",
    "version": 2
   },
   "file_extension": ".py",
   "mimetype": "text/x-python",
   "name": "python",
   "nbconvert_exporter": "python",
   "pygments_lexer": "ipython2",
   "version": "2.7.10"
  }
 },
 "nbformat": 4,
 "nbformat_minor": 0
}
