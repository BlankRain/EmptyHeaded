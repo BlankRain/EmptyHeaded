{
 "cells": [
  {
   "cell_type": "markdown",
   "metadata": {},
   "source": [
    "<img src=\"../figs/eh_logo.png\" style=\"width: 200px;\">\n",
    "\n",
    "# EmptyHeaded Query Language\n",
    "\n",
    "This tutorial provides the basic information concerning our querylanguage\n",
    "The EmptyHeaded query language is standard datalog with aggregations and recursion added. We go over each of the following portions of the query language.\n",
    "\n",
    "1. [Joins](#join)\n",
    "2. [Projections](#projection)\n",
    "3. [Selections](#selection)\n",
    "4. [Aggregations](#agg)\n",
    "5. [Recursion](#recursion)\n",
    "\n",
    "First lets discuss what we support in conjunction with Pandas DataFrames though."
   ]
  },
  {
   "cell_type": "markdown",
   "metadata": {},
   "source": [
    "## Spinning up the engine\n",
    "\n",
    "The steps here are pulled directly from our getting started tutorial. \n",
    "\n",
    "Accepted data types. The accepted datatypes when transferring Pandas DataFrames into the EmptyHeaded engine are:\n",
    "\n",
    "- np.int32,\n",
    "- np.int64,\n",
    "- np.uint32,\n",
    "- np.uint64,\n",
    "- np.float32,\n",
    "- np.float64"
   ]
  },
  {
   "cell_type": "code",
   "execution_count": 1,
   "metadata": {
    "collapsed": false
   },
   "outputs": [
    {
     "name": "stdout",
     "output_type": "stream",
     "text": [
      "cd /Users/caberger/Documents/Research/code/EmptyHeaded/storage_engine/build && cmake -DNUM_THREADS=4 .. && make && cd - > /dev/null\n"
     ]
    }
   ],
   "source": [
    "from emptyheaded import *\n",
    "start()\n",
    "eh = os.path.expandvars(\"$EMPTYHEADED_HOME\")\n",
    "df_graph = pd.read_csv(eh+'/test/graph/data/facebook_duplicated.tsv',\\\n",
    "  sep='\\t',\\\n",
    "  names=[\"0\",\"1\"],\\\n",
    "  dtype={\"0\":np.uint32,\"1\":np.uint32})\n",
    "edge = Relation(\n",
    "  name=\"Edge\",\n",
    "  dataframe=df_graph)\n",
    "db = Database.create(\n",
    "  Config(num_threads=4),\n",
    "  eh+\"/docs/dbql\",\n",
    "  [edge])\n",
    "db.build()"
   ]
  },
  {
   "cell_type": "markdown",
   "metadata": {
    "collapsed": true
   },
   "source": [
    "<a id='join'></a>\n",
    "## Joins\n",
    "\n",
    "Joins can be expressed in EmptyHeaded as in standard datalog. Simply specify the relation and the attributes that you are joining. EmptyHeaded currently supports equality joins and relations with the same attribute are joined on those matching attributes. For example consider the triangle query which performs joins over the *Edge* relation. "
   ]
  },
  {
   "cell_type": "code",
   "execution_count": 2,
   "metadata": {
    "collapsed": true
   },
   "outputs": [],
   "source": [
    "db.eval(\"Triangle(a,b,c) :- Edge(a,b),Edge(b,c),Edge(a,c).\")"
   ]
  },
  {
   "cell_type": "markdown",
   "metadata": {},
   "source": [
    "<a id='projection'></a>\n",
    "## Projections\n",
    "\n",
    "Projections are easily expressed by simply removing the attributes that are projected from the head of the rule. For example consider the triangle query where we just find all edges that participate in a triangle. We can project away the *c* attribute. The query below does this."
   ]
  },
  {
   "cell_type": "code",
   "execution_count": 3,
   "metadata": {
    "collapsed": true
   },
   "outputs": [],
   "source": [
    "db.eval(\"Triangle(a,b) :- Edge(a,b),Edge(b,c),Edge(a,c).\")"
   ]
  },
  {
   "cell_type": "markdown",
   "metadata": {},
   "source": [
    "<a id='selection'></a>\n",
    "## Selections\n",
    "\n",
    "EmptyHeaded currently supports equality selections by simply adding an additional condition to the body of the datalog rule. For example consider the query where we find all 4-cliques connected to a specified node. Note: equality selections currently must be projected away(ie not appear in the head)."
   ]
  },
  {
   "cell_type": "code",
   "execution_count": 9,
   "metadata": {
    "collapsed": false
   },
   "outputs": [],
   "source": [
    "db.eval(\"\"\"FliqueSel(a,b,c,d) :- x=0,\n",
    " Edge(a,b),Edge(b,c),Edge(a,c),\n",
    " Edge(a,d),Edge(b,d),Edge(c,d),Edge(a,x).\"\"\")"
   ]
  },
  {
   "cell_type": "markdown",
   "metadata": {},
   "source": [
    "<a id='agg'></a>\n",
    "## Aggregations\n",
    "\n",
    "### Overview\n",
    "We add basic aggregations to EmptyHeaded following the work of [Puttagunta et al](http://arxiv.org/abs/1508.07532). The key optimization that we use in EmptyHeaded which other worst-case optimal join processing engines do not use is the ability perform aggregations. We use *generalized hypertree decompositions* (GHDs) as our query plans in EmptyHeaded (thus our our equivalent of relational algebra). This allows us to treat aggregations as tropical semirings that support standard aggregation operations like $\\sum,\\times,\\max,\\min$.  \n",
    "\n",
    "### Annotations\n",
    "\n",
    "These annotations support aggregations from\n",
    "any semiring (a generalization of natural numbers equipped with a\n",
    "notion of addition and multiplication). This enables EmptyHeaded to support\n",
    "classic aggregations such as $SUM$, $MIN$, or $COUNT$, but also\n",
    "enables \\EH to support more complicated computations such as gradient\n",
    "descent. To specify the annotation, one uses a semicolon in the head\n",
    "of the rule, e.g. $q(x, y; z:int)$ specifies that each $x,y$ pair will\n",
    "be associated with an integer value with alias $z$ similar to a GROUP\n",
    "BY in SQL. In addition, the user expresses the aggregation operation\n",
    "in the body of the rule. The user can specify an initialization value\n",
    "as any expression over the tuples' values and constants, while common\n",
    "aggregates have default values. A typical\n",
    "count query is shown next.\n",
    "\n",
    "### Composing the query\n",
    "\n",
    "Now that the database is loaded lets write a simple aggregation query. We call this query the Barbell query or $B_{3,1}$ as it finds all 3-cliques connected by a path of length one. The syntax below shows that the annotation is first specified in the head (e.g. `w`) with the aggregation appearing in the body of the rule (e.g. `w:long<-[COUNT(*)]`). Lets find out how many barbells are in our facebook dataset.\n"
   ]
  },
  {
   "cell_type": "code",
   "execution_count": null,
   "metadata": {
    "collapsed": true
   },
   "outputs": [],
   "source": [
    "db.eval(\"\"\"\n",
    "BarbellAgg(;w) :- w:long<-[COUNT(*)],Edge(a,b),Edge(b,c),Edge(a,c),\n",
    "  Edge(a,x),Edge(x,y),Edge(y,z),Edge(x,z).\n",
    "\"\"\")"
   ]
  },
  {
   "cell_type": "markdown",
   "metadata": {},
   "source": [
    "<a id='recursion'></a>\n",
    "\n",
    "## Recursion\n",
    "\n",
    "We have support for simple (1 base case, 1 recursive statement) recursive queries in the current release of EmptyHeaded and plan to expand this support in the future. In this tutorial we demonstrate the computation of PageRank using power iteration.  \n"
   ]
  },
  {
   "cell_type": "code",
   "execution_count": 14,
   "metadata": {
    "collapsed": false
   },
   "outputs": [
    {
     "name": "stderr",
     "output_type": "stream",
     "text": [
      "ERROR: An unexpected error occurred while tokenizing input\n",
      "The following traceback may be corrupted or invalid\n",
      "The error message is: ('EOF in multi-line string', (1, 90))\n",
      "\n"
     ]
    },
    {
     "ename": "java.lang.IllegalArgumentExceptionPyRaisable",
     "evalue": "java.lang.IllegalArgumentException: Schema not found.",
     "output_type": "error",
     "traceback": [
      "\u001b[0;31m---------------------------------------------------------------------------\u001b[0m",
      "\u001b[0;31mjava.lang.IllegalArgumentExceptionPyRaisable\u001b[0mTraceback (most recent call last)",
      "\u001b[0;32m<ipython-input-14-61ee3eab12e1>\u001b[0m in \u001b[0;36m<module>\u001b[0;34m()\u001b[0m\n\u001b[1;32m      1\u001b[0m db.eval(\"\"\"N(;w) :- Edge(x,y),w:long<-[SUM(x;1)].\n\u001b[1;32m      2\u001b[0m \u001b[0mPageRank\u001b[0m\u001b[0;34m(\u001b[0m\u001b[0mx\u001b[0m\u001b[0;34m;\u001b[0m\u001b[0my\u001b[0m\u001b[0;34m)\u001b[0m \u001b[0;34m:\u001b[0m\u001b[0;34m-\u001b[0m \u001b[0mEdge\u001b[0m\u001b[0;34m(\u001b[0m\u001b[0mx\u001b[0m\u001b[0;34m,\u001b[0m\u001b[0mz\u001b[0m\u001b[0;34m)\u001b[0m\u001b[0;34m,\u001b[0m\u001b[0my\u001b[0m\u001b[0;34m:\u001b[0m\u001b[0mfloat\u001b[0m\u001b[0;34m<\u001b[0m\u001b[0;34m-\u001b[0m\u001b[0;34m[\u001b[0m\u001b[0;34m(\u001b[0m\u001b[0;36m1.0\u001b[0m\u001b[0;34m/\u001b[0m\u001b[0mN\u001b[0m\u001b[0;34m)\u001b[0m\u001b[0;34m]\u001b[0m\u001b[0;34m.\u001b[0m\u001b[0;34m\u001b[0m\u001b[0m\n\u001b[0;32m----> 3\u001b[0;31m PageRank(x;y)*[i=5]:-Edge(x,z),PageRank(z),InvDegree(z),y:float <- [0.15+0.85*SUM(z;1.0)].\"\"\")\n\u001b[0m",
      "\u001b[0;32m/Users/caberger/Documents/Research/code/EmptyHeaded/python/database.pyc\u001b[0m in \u001b[0;36meval\u001b[0;34m(self, datalog)\u001b[0m\n\u001b[1;32m     55\u001b[0m \u001b[0;34m\u001b[0m\u001b[0m\n\u001b[1;32m     56\u001b[0m     \u001b[0mfolder\u001b[0m \u001b[0;34m=\u001b[0m \u001b[0mtime\u001b[0m\u001b[0;34m.\u001b[0m\u001b[0mstrftime\u001b[0m\u001b[0;34m(\u001b[0m\u001b[0;34m\"D%d_%m_%Y_T%H_%M_%S\"\u001b[0m\u001b[0;34m)\u001b[0m \u001b[0;34m+\u001b[0m \u001b[0;34m\"_Q\"\u001b[0m \u001b[0;34m+\u001b[0m \u001b[0mstr\u001b[0m\u001b[0;34m(\u001b[0m\u001b[0mself\u001b[0m\u001b[0;34m.\u001b[0m\u001b[0mdbhash\u001b[0m\u001b[0;34m)\u001b[0m\u001b[0;34m\u001b[0m\u001b[0m\n\u001b[0;32m---> 57\u001b[0;31m     \u001b[0mnum\u001b[0m \u001b[0;34m=\u001b[0m \u001b[0mself\u001b[0m\u001b[0;34m.\u001b[0m\u001b[0mqc\u001b[0m\u001b[0;34m.\u001b[0m\u001b[0mgenerate\u001b[0m\u001b[0;34m(\u001b[0m\u001b[0mdatalog\u001b[0m\u001b[0;34m,\u001b[0m\u001b[0mstr\u001b[0m\u001b[0;34m(\u001b[0m\u001b[0mself\u001b[0m\u001b[0;34m.\u001b[0m\u001b[0mdbhash\u001b[0m\u001b[0;34m)\u001b[0m\u001b[0;34m,\u001b[0m\u001b[0mfolder\u001b[0m\u001b[0;34m)\u001b[0m\u001b[0;34m\u001b[0m\u001b[0m\n\u001b[0m\u001b[1;32m     58\u001b[0m     \u001b[0mos\u001b[0m\u001b[0;34m.\u001b[0m\u001b[0msystem\u001b[0m\u001b[0;34m(\u001b[0m\u001b[0;34m\"\"\"cd \"\"\"\u001b[0m\u001b[0;34m+\u001b[0m\u001b[0mself\u001b[0m\u001b[0;34m.\u001b[0m\u001b[0mfolder\u001b[0m\u001b[0;34m+\u001b[0m\u001b[0;34m\"\"\"/libs/\"\"\"\u001b[0m\u001b[0;34m+\u001b[0m\u001b[0mfolder\u001b[0m\u001b[0;34m+\u001b[0m\u001b[0;34m\"\"\" && ./build.sh >compilation.log 2>&1 && cd - > /dev/null\"\"\"\u001b[0m\u001b[0;34m)\u001b[0m\u001b[0;34m\u001b[0m\u001b[0m\n\u001b[1;32m     59\u001b[0m     \u001b[0mself\u001b[0m\u001b[0;34m.\u001b[0m\u001b[0mbackend\u001b[0m\u001b[0;34m.\u001b[0m\u001b[0mevaluate\u001b[0m\u001b[0;34m(\u001b[0m\u001b[0mself\u001b[0m\u001b[0;34m.\u001b[0m\u001b[0mrelations\u001b[0m\u001b[0;34m,\u001b[0m\u001b[0mfolder\u001b[0m\u001b[0;34m,\u001b[0m\u001b[0mstr\u001b[0m\u001b[0;34m(\u001b[0m\u001b[0mself\u001b[0m\u001b[0;34m.\u001b[0m\u001b[0mdbhash\u001b[0m\u001b[0;34m)\u001b[0m\u001b[0;34m,\u001b[0m\u001b[0mnum\u001b[0m\u001b[0;34m)\u001b[0m\u001b[0;34m\u001b[0m\u001b[0m\n",
      "\u001b[0;31mjava.lang.IllegalArgumentExceptionPyRaisable\u001b[0m: java.lang.IllegalArgumentException: Schema not found."
     ]
    }
   ],
   "source": [
    "db.eval(\"\"\"N(;w) :- Edge(x,y),w:long<-[SUM(x;1)].\n",
    "PageRank(x;y) :- Edge(x,z),y:float<-[(1.0/N)].\n",
    "PageRank(x;y)*[i=5]:-Edge(x,z),PageRank(z),InvDegree(z),y:float <- [0.15+0.85*SUM(z;1.0)].\"\"\")"
   ]
  },
  {
   "cell_type": "markdown",
   "metadata": {},
   "source": [
    "This is an example of the syntax used to express the PageRank query in EmptyHeaded. The first line specifies that we aggregate over all the edges in the graph and count the number of source nodes assuming our *Edge* relation is two-attribute relation filled with *(src,dst)* pairs. For an undirected graph this simply counts the number of nodes in the graph and assigns it to the relation *N* which is really just a scalar integer. By definition the *COUNT* aggregation and by default the*SUM* use an initialization value of *1* if the relation is not annotated. The second line of the query defines the base case for recursion. Here we simply project away the *z* attributes and assign an annotation value of *1/N* (where *N* is our scalar relation holding the number of nodes). Finally, the third line defines the recursive rule which joins the *Edge* and *InvDegree* relations inside the database with the new *PageRank* relation. We *SUM* over the *z* attribute in all of these relations. When aggregated attributes are joined with each other their annotation values are multiplied by default using the default definition of our semi-ring. Therefore we are performing a matrix-vector-vector multiplication. After the aggregation the corresponding expression for the annotation *y* is applied to each aggregated value. This is run for a fixed number (5) iterations as specified in the head."
   ]
  },
  {
   "cell_type": "code",
   "execution_count": null,
   "metadata": {
    "collapsed": true
   },
   "outputs": [],
   "source": []
  }
 ],
 "metadata": {
  "kernelspec": {
   "display_name": "Python 2",
   "language": "python",
   "name": "python2"
  },
  "language_info": {
   "codemirror_mode": {
    "name": "ipython",
    "version": 2
   },
   "file_extension": ".py",
   "mimetype": "text/x-python",
   "name": "python",
   "nbconvert_exporter": "python",
   "pygments_lexer": "ipython2",
   "version": "2.7.10"
  }
 },
 "nbformat": 4,
 "nbformat_minor": 0
}
