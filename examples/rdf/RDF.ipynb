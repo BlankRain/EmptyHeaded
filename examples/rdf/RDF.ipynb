{
 "cells": [
  {
   "cell_type": "markdown",
   "metadata": {},
   "source": [
    "<img src=\"../graph/figs/eh_logo.png\" style=\"width: 200px;\">\n",
    "\n",
    "# EmptyHeaded RDF Tutorial\n",
    "\n",
    "This is a brief example of how to run EmptyHeaded on RDF data. \n",
    "We first provide a brief system overview then discuss how to run a sample query from the Lehigh University Benchmark in EmptyHeaded.\n",
    "\n",
    "This example assumes that you have resolved all dependencies listed on our [GitHub](https://github.com/craberger/EmptyHeaded) page and were able to run `setup.sh` successfully."
   ]
  },
  {
   "cell_type": "markdown",
   "metadata": {},
   "source": [
    "## Loading the database\n",
    "\n",
    "First lets load a database to run the RDF query over."
   ]
  },
  {
   "cell_type": "code",
   "execution_count": null,
   "metadata": {
    "collapsed": true
   },
   "outputs": [],
   "source": [
    "import emptyheaded\n",
    "emptyheaded.createDB(\"$EMPTYHEADED_HOME/examples/rdf/data/lubm1/config.json)\n",
    "emptyheaded.loadDB(\"$EMPTYHEADED_HOME/examples/rdf/data/lubm1/db\")"
   ]
  },
  {
   "cell_type": "markdown",
   "metadata": {},
   "source": [
    "## Constructing the query\n",
    "\n",
    "Now that the database is loaded, let's run the first query from the LUBM benchmark. "
   ]
  },
  {
   "cell_type": "code",
   "execution_count": null,
   "metadata": {
    "collapsed": true
   },
   "outputs": [],
   "source": [
    "emptyheaded.query(\"lubm1(a) :- takesCourse(a,b='http://www.Department0.University0.edu/GraduateCourse0'),type(a,c='http://www.lehigh.edu/~zhp2/2004/0401/univ-bench.owl#GraduateStudent').\")"
   ]
  },
  {
   "cell_type": "markdown",
   "metadata": {},
   "source": [
    "## Inspecting the result\n",
    "\n",
    "As before the data comes back in the form of a Pandas dataframe."
   ]
  },
  {
   "cell_type": "markdown",
   "metadata": {},
   "source": [
    "## Other queries\n",
    "\n",
    "We include here two other LUBM queries for you to try. Note the first of the two includes a triangle. (Recall that we ran a triangle query in the Getting Started tutorial.) The edges are the undergraduateDegreeFrom, memberOf, and subOrganizationOf relations. "
   ]
  },
  {
   "cell_type": "code",
   "execution_count": null,
   "metadata": {
    "collapsed": true
   },
   "outputs": [],
   "source": [
    "emptyheaded.query(\"lubm2(a,b,c) :- memberOf(a,b),subOrganizationOf(b,c),undegraduateDegreeFrom(a,c),type(a,x='http://www.lehigh.edu/~zhp2/2004/0401/univ-bench.owl#GraduateStudent'),type(b,y='http://www.lehigh.edu/~zhp2/2004/0401/univ-bench.owl#Department'),type(c,z='http://www.lehigh.edu/~zhp2/2004/0401/univ-bench.owl#University').\")"
   ]
  },
  {
   "cell_type": "code",
   "execution_count": null,
   "metadata": {
    "collapsed": true
   },
   "outputs": [],
   "source": [
    "emptyheaded.query(\"lubm12(a,b) :- worksFor(a,b),type(a,c='http://www.lehigh.edu/~zhp2/2004/0401/univ-bench.owl#FullProfessor'),subOrganizationOf(b,d='http://www.University0.edu'),type(b,e='http://www.lehigh.edu/~zhp2/2004/0401/univ-bench.owl#Department').\")"
   ]
  }
 ],
 "metadata": {
  "kernelspec": {
   "display_name": "Python 2",
   "language": "python",
   "name": "python2"
  },
  "language_info": {
   "codemirror_mode": {
    "name": "ipython",
    "version": 2
   },
   "file_extension": ".py",
   "mimetype": "text/x-python",
   "name": "python",
   "nbconvert_exporter": "python",
   "pygments_lexer": "ipython2",
   "version": "2.7.10"
  }
 },
 "nbformat": 4,
 "nbformat_minor": 0
}
