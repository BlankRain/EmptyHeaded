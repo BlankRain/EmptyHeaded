{
 "cells": [
  {
   "cell_type": "markdown",
   "metadata": {
    "collapsed": true
   },
   "source": [
    "First lets import the emptyheaded python module."
   ]
  },
  {
   "cell_type": "code",
   "execution_count": 1,
   "metadata": {
    "collapsed": true
   },
   "outputs": [],
   "source": [
    "from emptyheaded import *"
   ]
  },
  {
   "cell_type": "markdown",
   "metadata": {},
   "source": [
    "Our query compiler is written in scala. We spin up the JVM with the following command."
   ]
  },
  {
   "cell_type": "code",
   "execution_count": 2,
   "metadata": {
    "collapsed": false
   },
   "outputs": [],
   "source": [
    "start()"
   ]
  },
  {
   "cell_type": "markdown",
   "metadata": {},
   "source": [
    "You can change how many threads we run with etc via the configuration that will be used for the database instance."
   ]
  },
  {
   "cell_type": "code",
   "execution_count": 3,
   "metadata": {
    "collapsed": false
   },
   "outputs": [
    {
     "name": "stdout",
     "output_type": "stream",
     "text": [
      "(system: emptyheaded, num_threads: 1,\n",
      "\t\tnum_sockets: 4, layout: hybrid, memory: RAM)\n"
     ]
    }
   ],
   "source": [
    "c = Config()\n",
    "print c"
   ]
  },
  {
   "cell_type": "markdown",
   "metadata": {
    "collapsed": true
   },
   "source": [
    "We accept data in the form of a pandas dataframe. Lets read some data from a csv file into a pandas dataframe."
   ]
  },
  {
   "cell_type": "code",
   "execution_count": 4,
   "metadata": {
    "collapsed": false
   },
   "outputs": [],
   "source": [
    "ratings = pd.read_csv('test.csv',\\\n",
    "  sep=',',\\\n",
    "  names=[\"0\",\"1\"],\\\n",
    "  dtype={\"0\":np.uint32,\"1\":np.uint32})"
   ]
  },
  {
   "cell_type": "markdown",
   "metadata": {
    "collapsed": true
   },
   "source": [
    "Let's create a relation. A relation has a name and takes a dataframe that contains the data. The schema is automatically inferred."
   ]
  },
  {
   "cell_type": "code",
   "execution_count": 5,
   "metadata": {
    "collapsed": true
   },
   "outputs": [],
   "source": [
    "graph = Relation(\n",
    "  name=\"graph\",\n",
    "  dataframe=ratings)"
   ]
  },
  {
   "cell_type": "markdown",
   "metadata": {
    "collapsed": true
   },
   "source": [
    "We are finally ready to create a database. The database accepts a config, a path to the folder the database will be placed on disk (must not exist already) and a list of relations that the database will contain. (this step is slow)."
   ]
  },
  {
   "cell_type": "code",
   "execution_count": 7,
   "metadata": {
    "collapsed": false
   },
   "outputs": [],
   "source": [
    "db = Database.create(\n",
    "  Config(),\n",
    "  \"/Users/caberger/Documents/Research/code/EmptyHeaded/examples/db\",\n",
    "  [graph])\n",
    "db.build()"
   ]
  },
  {
   "cell_type": "markdown",
   "metadata": {
    "collapsed": true
   },
   "source": [
    "That step was slow, it would be nice if we could avoid it if we already have created this database. We can with the following command."
   ]
  },
  {
   "cell_type": "code",
   "execution_count": 8,
   "metadata": {
    "collapsed": true
   },
   "outputs": [],
   "source": [
    "db = Database.from_existing(\"/Users/caberger/Documents/Research/code/EmptyHeaded/examples/db\")"
   ]
  },
  {
   "cell_type": "markdown",
   "metadata": {
    "collapsed": true
   },
   "source": [
    "We can load the relation completely into memory with the following command."
   ]
  },
  {
   "cell_type": "code",
   "execution_count": 9,
   "metadata": {
    "collapsed": true
   },
   "outputs": [],
   "source": [
    "db.load(\"graph\")"
   ]
  },
  {
   "cell_type": "markdown",
   "metadata": {
    "collapsed": true
   },
   "source": [
    "We can load a relation from disk and return it to the front-end as follows. Note this is just a wrapper around the back-end class.\n",
    "We can inspect the following fields of the relation."
   ]
  },
  {
   "cell_type": "code",
   "execution_count": 10,
   "metadata": {
    "collapsed": false
   },
   "outputs": [
    {
     "name": "stdout",
     "output_type": "stream",
     "text": [
      "False\n",
      "3\n",
      "2\n"
     ]
    }
   ],
   "source": [
    "g = db.get(\"graph\")\n",
    "print g.annotated\n",
    "print g.num_rows\n",
    "print g.num_columns"
   ]
  },
  {
   "cell_type": "markdown",
   "metadata": {
    "collapsed": true
   },
   "source": [
    "We can return a dataframe of the relation with the following command."
   ]
  },
  {
   "cell_type": "code",
   "execution_count": 12,
   "metadata": {
    "collapsed": false
   },
   "outputs": [
    {
     "name": "stdout",
     "output_type": "stream",
     "text": [
      "   0  1\n",
      "0  2  3\n",
      "1  4  5\n",
      "2  6  7\n"
     ]
    }
   ],
   "source": [
    "print g.getDF()"
   ]
  },
  {
   "cell_type": "markdown",
   "metadata": {
    "collapsed": true
   },
   "source": [
    "We can parse datalog and return an intermediate representation."
   ]
  },
  {
   "cell_type": "code",
   "execution_count": 13,
   "metadata": {
    "collapsed": true
   },
   "outputs": [],
   "source": [
    "def triangle():\n",
    "  return datalog(\"\"\"\n",
    "    Triangle(a,b,c) :- Edge(a,b),Edge(b,c),Edge(a,c).\n",
    "  \"\"\").ir\n",
    "ir = triangle()"
   ]
  },
  {
   "cell_type": "markdown",
   "metadata": {
    "collapsed": true
   },
   "source": [
    "We can look at the intermediate representation."
   ]
  },
  {
   "cell_type": "code",
   "execution_count": 14,
   "metadata": {
    "collapsed": false
   },
   "outputs": [
    {
     "name": "stdout",
     "output_type": "stream",
     "text": [
      "RULE :-\t RESULT: [Triangle ['a', 'b', 'c'],[]]  \n",
      "\t RECURSION:     \n",
      "\t OPERATION: * \n",
      "\t ORDER: ['a', 'b', 'c'] \n",
      "\t PROJECT: [] \n",
      "\t JOIN: [[Edge ['a', 'b'],[]], [Edge ['b', 'c'],[]], [Edge ['a', 'c'],[]]] \n",
      "\t AGGREGATES: [] \n",
      "\t FILTERS: []>\n"
     ]
    }
   ],
   "source": [
    "for rule in ir.rules:\n",
    "  print rule"
   ]
  },
  {
   "cell_type": "markdown",
   "metadata": {
    "collapsed": true
   },
   "source": [
    "We stop the JVM with the following command."
   ]
  },
  {
   "cell_type": "code",
   "execution_count": 15,
   "metadata": {
    "collapsed": true
   },
   "outputs": [],
   "source": [
    "stop()"
   ]
  },
  {
   "cell_type": "code",
   "execution_count": null,
   "metadata": {
    "collapsed": true
   },
   "outputs": [],
   "source": []
  }
 ],
 "metadata": {
  "kernelspec": {
   "display_name": "Python 2",
   "language": "python",
   "name": "python2"
  },
  "language_info": {
   "codemirror_mode": {
    "name": "ipython",
    "version": 2
   },
   "file_extension": ".py",
   "mimetype": "text/x-python",
   "name": "python",
   "nbconvert_exporter": "python",
   "pygments_lexer": "ipython2",
   "version": "2.7.10"
  }
 },
 "nbformat": 4,
 "nbformat_minor": 0
}
