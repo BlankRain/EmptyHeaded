{
 "cells": [
  {
   "cell_type": "markdown",
   "metadata": {},
   "source": [
    "<img src=\"figs/eh_logo.png\" style=\"width: 200px;\">\n",
    "\n",
    "# EmptyHeaded + Recursion\n",
    "\n",
    "We have support for simple (1 base case, 1 recursive statement) recursive queries in the current release of EmptyHeaded and plan to expand this support in the future. In this tutorial we demonstrate the computation of PageRank using power iteration.  \n",
    "\n",
    "This example assumes that you have resolved all dependencies listed on our [GitHub](https://github.com/craberger/EmptyHeaded) page and were able to run `setup.sh` successfully."
   ]
  },
  {
   "cell_type": "markdown",
   "metadata": {},
   "source": [
    "## Loading the database\n",
    "\n",
    "First let's load a database to run PageRank on."
   ]
  },
  {
   "cell_type": "code",
   "execution_count": null,
   "metadata": {
    "collapsed": true
   },
   "outputs": [],
   "source": [
    "import emptyheaded\n",
    "emptyheaded.createDB(\"$EMPTYHEADED_HOME/examples/graph/data/facebook/config.json\")\n",
    "emptyheaded.loadDB(\"$EMPTYHEADED_HOME/examples/graph/data/facebook/db\")"
   ]
  },
  {
   "cell_type": "markdown",
   "metadata": {},
   "source": [
    "## Composing the query\n",
    "\n",
    "Now that the database is loaded let's write power iteration. Note that ``N`` is the total number of vertices in the graph. The aggregation operator CONST indicates that the result of the aggregation of the specified variable should be the provided constant, and ``*[i=5]`` tells EmptyHeaded to run the recursion for 5 iterations. If you want to run until convergence within an epsilon of 0.1, you can specify that with ``*[c=0.1]``. InvDegree is a relation we load from disk that has the inverse of the degree of each node."
   ]
  },
  {
   "cell_type": "code",
   "execution_count": null,
   "metadata": {
    "collapsed": true
   },
   "outputs": [],
   "source": [
    "emptyheaded.query(\n",
    "  \"\"\"N(;w:int):-Edge(x,y);w=[<<COUNT(x)>>].\n",
    "     PageRank(x;y:float):-Edge(x,z);y=[(1.0/N)*<<CONST(z;1.0)>>].\n",
    "     PageRank(x;y:float)*[i=5]:-Edge(x,z),PageRank(z),InvDegree(z);y=[0.15+0.85*<<SUM(z;1.0)>>].\"\"\")"
   ]
  },
  {
   "cell_type": "markdown",
   "metadata": {},
   "source": [
    "## Inspecting the result\n",
    "\n",
    "As before the data comes back in the form of a Pandas dataframe.  The PageRank eigenvector is stored in the annotations. "
   ]
  },
  {
   "cell_type": "code",
   "execution_count": null,
   "metadata": {
    "collapsed": true
   },
   "outputs": [],
   "source": [
    "emptyheaded.fetchData(\"PageRank\")"
   ]
  }
 ],
 "metadata": {
  "kernelspec": {
   "display_name": "Python 2",
   "language": "python",
   "name": "python2"
  },
  "language_info": {
   "codemirror_mode": {
    "name": "ipython",
    "version": 2
   },
   "file_extension": ".py",
   "mimetype": "text/x-python",
   "name": "python",
   "nbconvert_exporter": "python",
   "pygments_lexer": "ipython2",
   "version": "2.7.10"
  }
 },
 "nbformat": 4,
 "nbformat_minor": 0
}
