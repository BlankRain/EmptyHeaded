{
 "cells": [
  {
   "cell_type": "markdown",
   "metadata": {},
   "source": [
    "<img src=\"figs/eh_logo.png\" style=\"width: 200px;\">\n",
    "\n",
    "# EmptyHeaded Graph Tutorial\n",
    "\n",
    "This is a brief example of how to run EmptyHeaded on graph data. \n",
    "We first provide a brief system overview then discuss how to run a sample query in EmptyHeaded.\n",
    "\n",
    "This example assumes that you have resolved all dependencies listed on our [GitHub](https://github.com/craberger/EmptyHeaded) page and were able to run `setup.sh` successfully."
   ]
  },
  {
   "cell_type": "markdown",
   "metadata": {},
   "source": [
    "## System Overview\n",
    "\n",
    "The EmptyHeaded engine works in three phases:\n",
    "(1) the query compiler translates a high-level datalog-like query\n",
    "language into a logical query plan represented as a\n",
    "GHD, replacing\n",
    "the traditional role of relational algebra; (2) the query compiler\n",
    "generates code for the execution engine by translating the GHD into a\n",
    "series of set intersections and loops; and (3) the execution engine\n",
    "performs automatic algorithmic and representation decisions based upon\n",
    "skew in the data.\n",
    "\n",
    "<br/>\n",
    "<div style=\"text-align:left\">\n",
    "<img src=\"figs/systemOverview.png\" style=\"width: 600px\">\n",
    "</div>"
   ]
  },
  {
   "cell_type": "markdown",
   "metadata": {},
   "source": [
    "## Importing Emptyheaded\n",
    "\n",
    "We being with the command to rule them all. Lets first import the EmptyHeaded runtime module."
   ]
  },
  {
   "cell_type": "code",
   "execution_count": 1,
   "metadata": {
    "collapsed": false
   },
   "outputs": [],
   "source": [
    "import emptyheaded"
   ]
  },
  {
   "cell_type": "markdown",
   "metadata": {},
   "source": [
    "## Defining a Schema\n",
    "\n",
    "EmptyHeaded expects a json file from the user that defines the schema of the relations that will be queried over. An example schema can be found in `data/facebook/config_pruned.json`. This file defines the configuration settings for EmptyHeaded (such as the number of threads to run with), the schemas for all the relations, and the files to load the relations from. EmptyHeaded currently supports loading from `tsv` and `csv` files. One can see that this configuration points to `duplicate_pruned.tsv` which contains an edge list that represents a graph. In fact this edgelist is (small) real dataset from our [Snap](https://snap.stanford.edu/data/egonets-Facebook.html) friends (feel free to call us your EmptyHeaded friends). Also, it is important to note the `database` path in this file. This will be where our database gets placed on disk in the next step!"
   ]
  },
  {
   "cell_type": "markdown",
   "metadata": {},
   "source": [
    "## Creating a Database\n",
    "\n",
    "Now that we have defined a schema and imported EmptyHeaded we can create the database. To create a database in EmptyHeaded we simply execute the following command which points to our json file that contains our schema. Note: this step takes a little bit (~10-20 seconds) because we compile the whole EmptyHeaded library, read the files from disk, dictionary encode the relations, build tries, and spill binary files to disk in this step. A visualization of what the following step is doing is below.\n",
    "\n",
    "<br/>\n",
    "<img src=\"figs/table_transform.png\" style=\"width: 600px\">"
   ]
  },
  {
   "cell_type": "code",
   "execution_count": 2,
   "metadata": {
    "collapsed": false
   },
   "outputs": [
    {
     "name": "stdout",
     "output_type": "stream",
     "text": [
      "Created database with the following relations: \n",
      "\tEdge(node:long,node:long)\n"
     ]
    }
   ],
   "source": [
    "emptyheaded.createDB(\"$EMPTYHEADED_HOME/examples/graph/data/facebook/config_pruned.json\")"
   ]
  },
  {
   "cell_type": "markdown",
   "metadata": {
    "collapsed": true
   },
   "source": [
    "## Loading a Previously Created Database\n",
    "\n",
    "The creation process should only need to be run once per dataset, so if you build a database then want to come back to it in another python session we enable you to do this with the following command. Note: the path in the `loadDB` command is the database path that you specified in your input schema file."
   ]
  },
  {
   "cell_type": "code",
   "execution_count": 2,
   "metadata": {
    "collapsed": false
   },
   "outputs": [],
   "source": [
    "emptyheaded.loadDB(\"$EMPTYHEADED_HOME/examples/graph/data/facebook/db_pruned\")"
   ]
  },
  {
   "cell_type": "markdown",
   "metadata": {
    "collapsed": true
   },
   "source": [
    "## Running a Query\n",
    "\n",
    "Whef! We are finally able to run a query now. Using our datalog like syntax we can express the triangle query over this dataset as follows. Here we express joins over our `Edge` relation with a rule that defines a new relation called `Triangle`."
   ]
  },
  {
   "cell_type": "code",
   "execution_count": 3,
   "metadata": {
    "collapsed": false
   },
   "outputs": [],
   "source": [
    "emptyheaded.query(\"Triangle(a,b,c) :- Edge(a,b),Edge(b,c),Edge(a,c).\")"
   ]
  },
  {
   "cell_type": "markdown",
   "metadata": {},
   "source": [
    "## Debugging Output\n",
    "\n",
    "A quick sanity check that EmptyHeaded did the right thing is to check the cardinality of the output of the query (we discuss how you can check each value below). You can print the number of rows in your output result as follows. All the user needs to specify is the name of the table."
   ]
  },
  {
   "cell_type": "code",
   "execution_count": 4,
   "metadata": {
    "collapsed": false
   },
   "outputs": [
    {
     "name": "stdout",
     "output_type": "stream",
     "text": [
      "1612010\n"
     ]
    }
   ],
   "source": [
    "print emptyheaded.numRows(\"Triangle\")"
   ]
  },
  {
   "cell_type": "markdown",
   "metadata": {
    "collapsed": true
   },
   "source": [
    "## Performance Times\n",
    "\n",
    "If you want to see a breakdown of the performance times we breakdown the time spent loading the data into memory versus the time spent running the query in the terminal output. You can view this in your shell from which you launched iPython notebook."
   ]
  },
  {
   "cell_type": "markdown",
   "metadata": {},
   "source": [
    "## View the Result \n",
    "\n",
    "That's great but what if I want to actually do something with my result (like view it in MatPlotLib or run a computation using SciPy). Fear not EmptyHeaded can help you. We use [Pandas](http://pandas.pydata.org/) data frames to return relations. An example of a data frame being returned is below. Here we fetch the data corresponding to the relation `Triangle` and return it in a Pandas [data frame](http://pandas.pydata.org/pandas-docs/version/0.16.2/generated/pandas.DataFrame.html)"
   ]
  },
  {
   "cell_type": "code",
   "execution_count": 4,
   "metadata": {
    "collapsed": false
   },
   "outputs": [],
   "source": [
    "TriangleTable = emptyheaded.fetchData(\"Triangle\")"
   ]
  },
  {
   "cell_type": "markdown",
   "metadata": {},
   "source": [
    "If we want to see the first ten rows."
   ]
  },
  {
   "cell_type": "code",
   "execution_count": 5,
   "metadata": {
    "collapsed": false
   },
   "outputs": [
    {
     "data": {
      "text/html": [
       "<div>\n",
       "<table border=\"1\" class=\"dataframe\">\n",
       "  <thead>\n",
       "    <tr style=\"text-align: right;\">\n",
       "      <th></th>\n",
       "      <th>0</th>\n",
       "      <th>1</th>\n",
       "      <th>2</th>\n",
       "    </tr>\n",
       "  </thead>\n",
       "  <tbody>\n",
       "    <tr>\n",
       "      <th>0</th>\n",
       "      <td>6</td>\n",
       "      <td>5</td>\n",
       "      <td>2</td>\n",
       "    </tr>\n",
       "    <tr>\n",
       "      <th>1</th>\n",
       "      <td>8</td>\n",
       "      <td>7</td>\n",
       "      <td>0</td>\n",
       "    </tr>\n",
       "    <tr>\n",
       "      <th>2</th>\n",
       "      <td>9</td>\n",
       "      <td>7</td>\n",
       "      <td>0</td>\n",
       "    </tr>\n",
       "    <tr>\n",
       "      <th>3</th>\n",
       "      <td>9</td>\n",
       "      <td>8</td>\n",
       "      <td>0</td>\n",
       "    </tr>\n",
       "    <tr>\n",
       "      <th>4</th>\n",
       "      <td>9</td>\n",
       "      <td>8</td>\n",
       "      <td>7</td>\n",
       "    </tr>\n",
       "    <tr>\n",
       "      <th>5</th>\n",
       "      <td>10</td>\n",
       "      <td>5</td>\n",
       "      <td>2</td>\n",
       "    </tr>\n",
       "    <tr>\n",
       "      <th>6</th>\n",
       "      <td>10</td>\n",
       "      <td>6</td>\n",
       "      <td>2</td>\n",
       "    </tr>\n",
       "    <tr>\n",
       "      <th>7</th>\n",
       "      <td>10</td>\n",
       "      <td>6</td>\n",
       "      <td>5</td>\n",
       "    </tr>\n",
       "    <tr>\n",
       "      <th>8</th>\n",
       "      <td>11</td>\n",
       "      <td>7</td>\n",
       "      <td>0</td>\n",
       "    </tr>\n",
       "    <tr>\n",
       "      <th>9</th>\n",
       "      <td>11</td>\n",
       "      <td>8</td>\n",
       "      <td>0</td>\n",
       "    </tr>\n",
       "  </tbody>\n",
       "</table>\n",
       "</div>"
      ],
      "text/plain": [
       "    0  1  2\n",
       "0   6  5  2\n",
       "1   8  7  0\n",
       "2   9  7  0\n",
       "3   9  8  0\n",
       "4   9  8  7\n",
       "5  10  5  2\n",
       "6  10  6  2\n",
       "7  10  6  5\n",
       "8  11  7  0\n",
       "9  11  8  0"
      ]
     },
     "execution_count": 5,
     "metadata": {},
     "output_type": "execute_result"
    }
   ],
   "source": [
    "TriangleTable[0:10]"
   ]
  }
 ],
 "metadata": {
  "kernelspec": {
   "display_name": "Python 2",
   "language": "python",
   "name": "python2"
  },
  "language_info": {
   "codemirror_mode": {
    "name": "ipython",
    "version": 2
   },
   "file_extension": ".py",
   "mimetype": "text/x-python",
   "name": "python",
   "nbconvert_exporter": "python",
   "pygments_lexer": "ipython2",
   "version": "2.7.10"
  }
 },
 "nbformat": 4,
 "nbformat_minor": 0
}
